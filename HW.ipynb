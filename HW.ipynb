{
 "cells": [
  {
   "cell_type": "code",
   "execution_count": 55,
   "id": "ab0faefc",
   "metadata": {},
   "outputs": [],
   "source": [
    "import pandas as pd\n",
    "import numpy as np\n",
    "import matplotlib.pyplot as plt\n",
    "import seaborn as sns\n",
    "from io import BytesIO\n",
    "from sklearn.metrics import confusion_matrix\n",
    "from sklearn.model_selection import train_test_split\n",
    "from sktime.classification.distance_based import KNeighborsTimeSeriesClassifier\n",
    "from sklearn.metrics import  f1_score,precision_score,recall_score, accuracy_score, classification_report\n",
    "from imblearn.over_sampling import RandomOverSampler\n",
    "from sklearn.utils import shuffle\n",
    "from sklearn.linear_model import LogisticRegression\n",
    "from sklearn.model_selection import GridSearchCV\n",
    "from sktime.classification.kernel_based import RocketClassifier\n",
    "import requests\n",
    "\n"
   ]
  },
  {
   "cell_type": "code",
   "execution_count": 60,
   "id": "b0aedfe0",
   "metadata": {},
   "outputs": [],
   "source": [
    "X_train = np.load(r\"D:\\Книги по программированию\\ML Intensive\\DataSets lesson 4\\neymark-tsc\\train_x.npy\")\n",
    "y_train = np.load(r\"D:\\Книги по программированию\\ML Intensive\\DataSets lesson 4\\neymark-tsc\\train_y.npy\")\n",
    "X_test_real = np.load(r\"D:\\Книги по программированию\\ML Intensive\\DataSets lesson 4\\neymark-tsc\\test_x.npy\")\n"
   ]
  },
  {
   "cell_type": "code",
   "execution_count": 61,
   "id": "83055fa0",
   "metadata": {},
   "outputs": [
    {
     "data": {
      "text/plain": [
       "(14667, 187)"
      ]
     },
     "execution_count": 61,
     "metadata": {},
     "output_type": "execute_result"
    }
   ],
   "source": [
    "X_train.shape"
   ]
  },
  {
   "cell_type": "code",
   "execution_count": 62,
   "id": "5768c13a",
   "metadata": {},
   "outputs": [
    {
     "data": {
      "text/plain": [
       "(7225, 187)"
      ]
     },
     "execution_count": 62,
     "metadata": {},
     "output_type": "execute_result"
    }
   ],
   "source": [
    "X_test_real.shape"
   ]
  },
  {
   "cell_type": "code",
   "execution_count": 5,
   "id": "7b80f10d",
   "metadata": {},
   "outputs": [],
   "source": [
    "X_train, X_test, y_train, y_test = train_test_split(X_train, y_train, test_size=0.33, random_state=42)"
   ]
  },
  {
   "cell_type": "code",
   "execution_count": 7,
   "id": "90e82f5e",
   "metadata": {
    "scrolled": true
   },
   "outputs": [
    {
     "data": {
      "text/plain": [
       "0.7759444925146735"
      ]
     },
     "execution_count": 7,
     "metadata": {},
     "output_type": "execute_result"
    }
   ],
   "source": [
    "from sklearn.ensemble import GradientBoostingClassifier\n",
    "GBT = GradientBoostingClassifier(n_estimators=200)\n",
    "GBT.fit(X_train, y_train)\n",
    "y_pred = GBT.predict(X_test)\n",
    "f1_score(y_test, y_pred, average=\"macro\")\n",
    "\n",
    "\n"
   ]
  },
  {
   "cell_type": "code",
   "execution_count": 8,
   "id": "e08ae4b8",
   "metadata": {
    "scrolled": true
   },
   "outputs": [
    {
     "name": "stdout",
     "output_type": "stream",
     "text": [
      "f1_score: 0.8212049932284466\n",
      "Accuracy: 0.9139144858527377\n",
      "Recall_score: 0.7618396719691203\n"
     ]
    }
   ],
   "source": [
    "classifier = KNeighborsTimeSeriesClassifier(n_neighbors=4,\n",
    "                                            weights = 'distance',algorithm='auto',\n",
    "                                            distance=\"squared\",\n",
    "                                            distance_params={'epsilon':1})\n",
    "classifier.fit(X_train, y_train)\n",
    "y_pred = classifier.predict(X_test)\n",
    "print(\"f1_score:\",f1_score(y_test, y_pred, average=\"macro\"))\n",
    "print(\"Accuracy:\", precision_score(y_test,y_pred, average=\"macro\"))\n",
    "print(\"Recall_score:\",recall_score(y_test,y_pred, average=\"macro\"))"
   ]
  },
  {
   "cell_type": "code",
   "execution_count": 9,
   "id": "2c4fc02e",
   "metadata": {},
   "outputs": [
    {
     "name": "stdout",
     "output_type": "stream",
     "text": [
      "f1_score: 0.8339663742830421\n",
      "Accuracy: 0.9766757044125466\n",
      "Recall_score: 0.7632007030418108\n"
     ]
    }
   ],
   "source": [
    "rocket = RocketClassifier(num_kernels=2000)\n",
    "rocket.fit(X_train, y_train)\n",
    "y_pred = rocket.predict(X_test)\n",
    "print(\"f1_score:\",f1_score(y_test, y_pred, average=\"macro\"))\n",
    "print(\"Accuracy:\", precision_score(y_test,y_pred, average=\"macro\"))\n",
    "print(\"Recall_score:\",recall_score(y_test,y_pred, average=\"macro\"))\n"
   ]
  },
  {
   "cell_type": "code",
   "execution_count": 10,
   "id": "35b102fe",
   "metadata": {},
   "outputs": [],
   "source": [
    "def cm_plot(y_test, y_pred):\n",
    "\n",
    "    cm = confusion_matrix(y_test, y_pred)\n",
    "    # Normalise\n",
    "    cmn = cm.astype('float') / cm.sum(axis=1)[:, np.newaxis]\n",
    "    fig, ax = plt.subplots(figsize=(5,5))\n",
    "    sns.heatmap(cmn, cmap='Blues', annot=True, fmt='.2f')\n",
    "    sns.set(font_scale=1.3)\n",
    "    plt.title(\"Confusion Matrix\")\n",
    "\n",
    "    return plt.show()"
   ]
  },
  {
   "cell_type": "code",
   "execution_count": 11,
   "id": "150dd9cd",
   "metadata": {},
   "outputs": [
    {
     "data": {
      "image/png": "[encoded data removed]",
      "text/plain": [
       "<Figure size 360x360 with 2 Axes>"
      ]
     },
     "metadata": {
      "needs_background": "light"
     },
     "output_type": "display_data"
    }
   ],
   "source": [
    "cm_plot(y_test, y_pred)"
   ]
  },
  {
   "cell_type": "code",
   "execution_count": 12,
   "id": "d5a1c1ce",
   "metadata": {},
   "outputs": [
    {
     "data": {
      "text/html": [
       "<div>\n",
       "<style scoped>\n",
       "    .dataframe tbody tr th:only-of-type {\n",
       "        vertical-align: middle;\n",
       "    }\n",
       "\n",
       "    .dataframe tbody tr th {\n",
       "        vertical-align: top;\n",
       "    }\n",
       "\n",
       "    .dataframe thead th {\n",
       "        text-align: right;\n",
       "    }\n",
       "</style>\n",
       "<table border=\"1\" class=\"dataframe\">\n",
       "  <thead>\n",
       "    <tr style=\"text-align: right;\">\n",
       "      <th></th>\n",
       "      <th>ID</th>\n",
       "      <th>Answer</th>\n",
       "    </tr>\n",
       "  </thead>\n",
       "  <tbody>\n",
       "    <tr>\n",
       "      <th>0</th>\n",
       "      <td>0</td>\n",
       "      <td>0</td>\n",
       "    </tr>\n",
       "    <tr>\n",
       "      <th>1</th>\n",
       "      <td>1</td>\n",
       "      <td>0</td>\n",
       "    </tr>\n",
       "    <tr>\n",
       "      <th>2</th>\n",
       "      <td>2</td>\n",
       "      <td>0</td>\n",
       "    </tr>\n",
       "    <tr>\n",
       "      <th>3</th>\n",
       "      <td>3</td>\n",
       "      <td>2</td>\n",
       "    </tr>\n",
       "    <tr>\n",
       "      <th>4</th>\n",
       "      <td>4</td>\n",
       "      <td>0</td>\n",
       "    </tr>\n",
       "    <tr>\n",
       "      <th>...</th>\n",
       "      <td>...</td>\n",
       "      <td>...</td>\n",
       "    </tr>\n",
       "    <tr>\n",
       "      <th>7220</th>\n",
       "      <td>7220</td>\n",
       "      <td>0</td>\n",
       "    </tr>\n",
       "    <tr>\n",
       "      <th>7221</th>\n",
       "      <td>7221</td>\n",
       "      <td>2</td>\n",
       "    </tr>\n",
       "    <tr>\n",
       "      <th>7222</th>\n",
       "      <td>7222</td>\n",
       "      <td>0</td>\n",
       "    </tr>\n",
       "    <tr>\n",
       "      <th>7223</th>\n",
       "      <td>7223</td>\n",
       "      <td>0</td>\n",
       "    </tr>\n",
       "    <tr>\n",
       "      <th>7224</th>\n",
       "      <td>7224</td>\n",
       "      <td>0</td>\n",
       "    </tr>\n",
       "  </tbody>\n",
       "</table>\n",
       "<p>7225 rows × 2 columns</p>\n",
       "</div>"
      ],
      "text/plain": [
       "        ID Answer\n",
       "0        0      0\n",
       "1        1      0\n",
       "2        2      0\n",
       "3        3      2\n",
       "4        4      0\n",
       "...    ...    ...\n",
       "7220  7220      0\n",
       "7221  7221      2\n",
       "7222  7222      0\n",
       "7223  7223      0\n",
       "7224  7224      0\n",
       "\n",
       "[7225 rows x 2 columns]"
      ]
     },
     "execution_count": 12,
     "metadata": {},
     "output_type": "execute_result"
    }
   ],
   "source": [
    "y_pred = classifier.predict(X_test_real)\n",
    "\n",
    "y_pred_csv = pd.DataFrame()\n",
    "y_pred_csv[\"ID\"] = np.array(range(len(y_pred))).astype(int).astype(str)\n",
    "y_pred_csv[\"Answer\"] = np.array(y_pred).astype(int).astype(str)\n",
    "y_pred_csv.to_csv(\"testing_submission.csv\", index=False)\n",
    "y_pred_csv"
   ]
  },
  {
   "cell_type": "code",
   "execution_count": null,
   "id": "440eda6f",
   "metadata": {},
   "outputs": [],
   "source": []
  }
 ],
 "metadata": {
  "kernelspec": {
   "display_name": "Python 3 (ipykernel)",
   "language": "python",
   "name": "python3"
  },
  "language_info": {
   "codemirror_mode": {
    "name": "ipython",
    "version": 3
   },
   "file_extension": ".py",
   "mimetype": "text/x-python",
   "name": "python",
   "nbconvert_exporter": "python",
   "pygments_lexer": "ipython3",
   "version": "3.9.12"
  }
 },
 "nbformat": 4,
 "nbformat_minor": 5
}
